{
 "cells": [
  {
   "cell_type": "markdown",
   "id": "e5ef65e3",
   "metadata": {},
   "source": [
    "# Task1\n",
    " Write a Python program that multiplies a TensorFlow tensor by a scalar value and prints the result."
   ]
  },
  {
   "cell_type": "code",
   "execution_count": 19,
   "id": "2fb49fcc",
   "metadata": {},
   "outputs": [
    {
     "name": "stdout",
     "output_type": "stream",
     "text": [
      "[66. 36. 96.]\n"
     ]
    }
   ],
   "source": [
    "import tensorflow as tf\n",
    "tf.compat.v1.disable_eager_execution()\n",
    "tensor = tf.constant([22,12,32],dtype=tf.float32)\n",
    "scalar = 3\n",
    "result = tensor * scalar\n",
    "sess = tf.compat.v1.Session()\n",
    "print(sess.run(result))\n",
    "sess.close()"
   ]
  },
  {
   "cell_type": "markdown",
   "id": "b413c3cc",
   "metadata": {},
   "source": [
    "# TASK 2\n",
    "Write a Python program that uses TensorFlow to compute the dot product of two vectors (1-D tensors)."
   ]
  },
  {
   "cell_type": "code",
   "execution_count": 21,
   "id": "0b1ffb80",
   "metadata": {},
   "outputs": [
    {
     "name": "stdout",
     "output_type": "stream",
     "text": [
      "44.0\n"
     ]
    }
   ],
   "source": [
    "import tensorflow as tf\n",
    "tf.compat.v1.disable_eager_execution()\n",
    "vector1 = tf.constant([1, 3, 5], dtype=tf.float32)\n",
    "vector2 = tf.constant([2, 4, 6], dtype=tf.float32)\n",
    "dot_product = tf.tensordot(vector1, vector2, axes=1)\n",
    "sess = tf.compat.v1.Session()\n",
    "print(sess.run(dot_product))\n",
    "sess.close()"
   ]
  },
  {
   "cell_type": "markdown",
   "id": "db7b533d",
   "metadata": {},
   "source": [
    "# Task3\n",
    "Write a TensorFlow program that creates two matrices, matrix1 and matrix2, with the following values:\n",
    "matrix1 = [[1, 2],[3, 4]]\n",
    "matrix2 = [[5, 6],[7, 8]]\n",
    "Perform the athematic operations on these matric"
   ]
  },
  {
   "cell_type": "code",
   "execution_count": 27,
   "id": "3031c36b",
   "metadata": {},
   "outputs": [
    {
     "name": "stdout",
     "output_type": "stream",
     "text": [
      "Matrix Sum:\n",
      "[[ 6.  8.]\n",
      " [10. 12.]]\n",
      "\n",
      "Matrix Difference:\n",
      "[[-4. -4.]\n",
      " [-4. -4.]]\n",
      "\n",
      "Matrix Product:\n",
      "[[19. 22.]\n",
      " [43. 50.]]\n"
     ]
    }
   ],
   "source": [
    "import tensorflow as tf\n",
    "tf.compat.v1.disable_eager_execution()\n",
    "matrix1 = tf.constant([[1,2],[3,4]], dtype=tf.float32)\n",
    "matrix2 = tf.constant([[5,6],[7,8]], dtype=tf.float32)\n",
    "matrix_sum = tf.add(matrix1,matrix2)\n",
    "matrix_sub = tf.subtract(matrix1,matrix2)\n",
    "matrix_mul = tf.matmul(matrix1,matrix2)\n",
    "with tf.compat.v1.Session() as sess:\n",
    "    sum_result = sess.run(matrix_sum)\n",
    "    sub_result = sess.run(matrix_sub)    \n",
    "    mul_result = sess.run(matrix_mul)    \n",
    "    print(\"Matrix Sum:\")\n",
    "    print(sum_result)\n",
    "    print(\"\\nMatrix Difference:\")\n",
    "    print(sub_result)\n",
    "    print(\"\\nMatrix Product:\")\n",
    "    print(mul_result)"
   ]
  },
  {
   "cell_type": "code",
   "execution_count": null,
   "id": "df6094db",
   "metadata": {},
   "outputs": [],
   "source": []
  }
 ],
 "metadata": {
  "kernelspec": {
   "display_name": "Python 3 (ipykernel)",
   "language": "python",
   "name": "python3"
  },
  "language_info": {
   "codemirror_mode": {
    "name": "ipython",
    "version": 3
   },
   "file_extension": ".py",
   "mimetype": "text/x-python",
   "name": "python",
   "nbconvert_exporter": "python",
   "pygments_lexer": "ipython3",
   "version": "3.11.5"
  }
 },
 "nbformat": 4,
 "nbformat_minor": 5
}
