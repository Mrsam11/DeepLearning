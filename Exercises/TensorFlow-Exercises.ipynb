{
 "cells": [
  {
   "cell_type": "markdown",
   "id": "74465820",
   "metadata": {},
   "source": [
    "# Exercises\n",
    "1. Create a vector, scalar, matrix and tensor with values of your choosing using `tf.constant()`.\n",
    "2. Find the shape, rank and size of the tensors you created in 1.\n",
    "3. Create two tensors containing random values between 0 and 1 with shape `[5, 300]`.\n",
    "4. Multiply the two tensors you created in 3 using matrix multiplication.\n",
    "5. Multiply the two tensors you created in 3 using dot product.\n",
    "6. Create a tensor with random values between 0 and 1 with shape `[224, 224, 3]`.\n",
    "7. Find the min and max values of the tensor you created in 6.\n",
    "8. Created a tensor with random values of shape `[1, 224, 224, 3]` then squeeze it to change the shape to `[224, 224, 3]`.\n",
    "9. Create a tensor with shape `[10]` using your own choice of values, then find the index which has the maximum value.\n",
    "10. One-hot encode the tensor you created in 9."
   ]
  },
  {
   "cell_type": "code",
   "execution_count": 34,
   "id": "7e109dbe",
   "metadata": {},
   "outputs": [],
   "source": [
    "import tensorflow as tf\n",
    "tf.compat.v1.disable_eager_execution()\n",
    "vector = tf.constant([1,2,3])\n",
    "scalar = tf.constant(4)\n",
    "matrix = tf.constant([[3,4],[5,6]])\n",
    "tensor = tf.constant([[[1, 2], [3, 4]], [[5, 6], [7, 8]]])"
   ]
  },
  {
   "cell_type": "code",
   "execution_count": 32,
   "id": "342dee03",
   "metadata": {},
   "outputs": [
    {
     "name": "stdout",
     "output_type": "stream",
     "text": [
      "FOR VECTOR\n",
      "Tensor(\"Shape_3:0\", shape=(1,), dtype=int32)\n",
      "Tensor(\"Rank_3:0\", shape=(), dtype=int32)\n",
      "Tensor(\"Size_3:0\", shape=(), dtype=int32)\n",
      "\n",
      "FOR SCALAR\n",
      "Tensor(\"Shape_4:0\", shape=(0,), dtype=int32)\n",
      "Tensor(\"Rank_4:0\", shape=(), dtype=int32)\n",
      "Tensor(\"Size_4:0\", shape=(), dtype=int32)\n",
      "\n",
      "FOR MATRIX\n",
      "Tensor(\"Shape_5:0\", shape=(2,), dtype=int32)\n",
      "Tensor(\"Rank_5:0\", shape=(), dtype=int32)\n",
      "Tensor(\"Size_5:0\", shape=(), dtype=int32)\n",
      "\n",
      "FOR TENSOR\n",
      "Tensor(\"Shape_6:0\", shape=(3,), dtype=int32)\n",
      "Tensor(\"Rank_6:0\", shape=(), dtype=int32)\n",
      "Tensor(\"Size_6:0\", shape=(), dtype=int32)\n"
     ]
    }
   ],
   "source": [
    "#Find the shape, rank and size of the tensors you created in 1.\n",
    "print(\"FOR VECTOR\")\n",
    "print(tf.shape(vector))\n",
    "print(tf.rank(vector))\n",
    "print(tf.size(vector))\n",
    "print(\"\\nFOR SCALAR\")\n",
    "print(tf.shape(scalar))\n",
    "print(tf.rank(scalar))\n",
    "print(tf.size(scalar))\n",
    "print(\"\\nFOR MATRIX\")\n",
    "print(tf.shape(matrix))\n",
    "print(tf.rank(matrix))\n",
    "print(tf.size(matrix))\n",
    "print(\"\\nFOR TENSOR\")\n",
    "print(tf.shape(tensor))\n",
    "print(tf.rank(tensor))\n",
    "print(tf.size(tensor))"
   ]
  },
  {
   "cell_type": "code",
   "execution_count": 36,
   "id": "7c55a5b1",
   "metadata": {},
   "outputs": [
    {
     "name": "stdout",
     "output_type": "stream",
     "text": [
      "Tensor 1:\n",
      "[[0.92968595 0.15255463 0.02180505 ... 0.77000844 0.31050825 0.41351485]\n",
      " [0.3518275  0.36513293 0.2633146  ... 0.9702612  0.6071358  0.9437702 ]\n",
      " [0.30659473 0.27629066 0.35960615 ... 0.06792367 0.26620412 0.5210922 ]\n",
      " [0.7846836  0.34818387 0.12433803 ... 0.4159267  0.32896638 0.75472105]\n",
      " [0.28427684 0.45162344 0.68250775 ... 0.9435475  0.14795613 0.6498743 ]]\n",
      "\n",
      "Tensor 2:\n",
      "[[5.22193909e-01 5.40274262e-01 7.12433338e-01 ... 3.16011190e-01\n",
      "  1.75500274e-01 3.63707900e-01]\n",
      " [5.76125622e-01 6.18263602e-01 5.95979929e-01 ... 6.34230733e-01\n",
      "  4.36037064e-01 4.88490939e-01]\n",
      " [9.58602905e-01 6.48447037e-01 5.70000768e-01 ... 6.45319462e-01\n",
      "  5.87369442e-01 6.60896301e-04]\n",
      " [7.80207753e-01 1.24651074e-01 3.14593315e-02 ... 3.27524066e-01\n",
      "  3.95718813e-02 9.04308438e-01]\n",
      " [8.46472144e-01 1.82739496e-02 5.04876733e-01 ... 3.86100888e-01\n",
      "  4.35885787e-01 8.41250896e-01]]\n"
     ]
    }
   ],
   "source": [
    "#Create two tensors containing random values between 0 and 1 with shape [5, 300].\n",
    "tensor1 = tf.random.uniform(shape=[5,300])\n",
    "tensor2 = tf.random.uniform(shape=[5,300])\n",
    "with tf.compat.v1.Session() as sess:\n",
    "    tensor1_values = sess.run(tensor1)\n",
    "    tensor2_values = sess.run(tensor2)\n",
    "    print(\"Tensor 1:\")\n",
    "    print(tensor1_values)\n",
    "    print(\"\\nTensor 2:\")\n",
    "    print(tensor2_values)"
   ]
  },
  {
   "cell_type": "code",
   "execution_count": 45,
   "id": "f985f439",
   "metadata": {},
   "outputs": [
    {
     "name": "stdout",
     "output_type": "stream",
     "text": [
      "[[72.89496  76.655426 72.39402  76.32009  75.36866 ]\n",
      " [68.90211  75.47112  67.9708   76.05638  71.822716]\n",
      " [73.7473   78.918724 73.26092  80.410774 76.93975 ]\n",
      " [72.74131  76.88636  67.54693  76.307686 75.996956]\n",
      " [70.6913   73.55944  68.698746 77.62435  71.53018 ]]\n"
     ]
    }
   ],
   "source": [
    "# 4. Multiply the two tensors using matrix multiplication.\n",
    "matrix_mul = tf.matmul(tensor1, tf.transpose(tensor2))\n",
    "sess = tf.compat.v1.Session()\n",
    "print(sess.run(matrix_mul))"
   ]
  },
  {
   "cell_type": "code",
   "execution_count": 48,
   "id": "c66f4dde",
   "metadata": {},
   "outputs": [
    {
     "name": "stdout",
     "output_type": "stream",
     "text": [
      "[[77.43665  77.27891  77.246284 74.35578  70.57112 ]\n",
      " [80.482544 78.88035  79.60003  80.04146  71.783295]\n",
      " [75.4257   73.539024 74.91358  76.73252  68.46511 ]\n",
      " [78.59566  77.95484  77.86854  77.301384 71.45032 ]\n",
      " [74.25842  74.23081  75.55832  75.65319  68.13836 ]]\n"
     ]
    }
   ],
   "source": [
    "# 5. Multiply the two tensors using dot product.\n",
    "dot_product = tf.tensordot(tensor1,tf.transpose(tensor2), axes=1)\n",
    "print(sess.run(dot_product))"
   ]
  },
  {
   "cell_type": "code",
   "execution_count": 52,
   "id": "47138212",
   "metadata": {},
   "outputs": [
    {
     "name": "stdout",
     "output_type": "stream",
     "text": [
      "[[[0.6669375  0.7417315  0.25744712]\n",
      "  [0.65871024 0.82134926 0.06344461]\n",
      "  [0.83110595 0.05783844 0.11580038]\n",
      "  ...\n",
      "  [0.62102246 0.9217833  0.98976064]\n",
      "  [0.5118464  0.98722374 0.5576005 ]\n",
      "  [0.3190863  0.1005553  0.33536386]]\n",
      "\n",
      " [[0.7880467  0.4962448  0.9807427 ]\n",
      "  [0.9264709  0.18669116 0.65439117]\n",
      "  [0.56651807 0.7804693  0.60114765]\n",
      "  ...\n",
      "  [0.93272555 0.13287866 0.52336836]\n",
      "  [0.35065544 0.6963692  0.7122097 ]\n",
      "  [0.537593   0.4874848  0.43658352]]\n",
      "\n",
      " [[0.9837291  0.8505434  0.4439106 ]\n",
      "  [0.9952302  0.98631525 0.5619955 ]\n",
      "  [0.8043523  0.3436135  0.99078166]\n",
      "  ...\n",
      "  [0.56733596 0.10996711 0.17687297]\n",
      "  [0.9219314  0.63984394 0.34871244]\n",
      "  [0.09019482 0.05941415 0.33203673]]\n",
      "\n",
      " ...\n",
      "\n",
      " [[0.7166625  0.4376384  0.279482  ]\n",
      "  [0.24200511 0.4345008  0.68975556]\n",
      "  [0.75346637 0.5126159  0.40582228]\n",
      "  ...\n",
      "  [0.6247361  0.7772882  0.22834802]\n",
      "  [0.18317187 0.11530447 0.2456361 ]\n",
      "  [0.7836876  0.4747362  0.44893265]]\n",
      "\n",
      " [[0.9149116  0.7374644  0.47479415]\n",
      "  [0.78600276 0.4861356  0.6264806 ]\n",
      "  [0.94192576 0.67057085 0.9716402 ]\n",
      "  ...\n",
      "  [0.35939908 0.7054914  0.08006632]\n",
      "  [0.3537606  0.43431842 0.08065796]\n",
      "  [0.53878963 0.6139891  0.7559804 ]]\n",
      "\n",
      " [[0.3791176  0.9389237  0.434654  ]\n",
      "  [0.8012929  0.96176004 0.70537865]\n",
      "  [0.5598086  0.58601296 0.6689824 ]\n",
      "  ...\n",
      "  [0.59117055 0.09771895 0.9995091 ]\n",
      "  [0.00426984 0.99792254 0.10819948]\n",
      "  [0.54787695 0.6876025  0.68813694]]]\n"
     ]
    }
   ],
   "source": [
    "# 6. Create a tensor with random values between 0 and 1 with shape [224, 224, 3].\n",
    "tensor3 = tf.random.uniform(shape=[244,244,3])\n",
    "print(sess.run(tensor3))"
   ]
  },
  {
   "cell_type": "code",
   "execution_count": 53,
   "id": "72223655",
   "metadata": {},
   "outputs": [
    {
     "name": "stdout",
     "output_type": "stream",
     "text": [
      "2.3841858e-06\n",
      "0.99999845\n"
     ]
    }
   ],
   "source": [
    "# 7. Find the min and max values of the tensor.\n",
    "min_value = tf.reduce_min(tensor3)\n",
    "max_value = tf.reduce_max(tensor3)\n",
    "print(sess.run(min_value))\n",
    "print(sess.run(max_value))"
   ]
  },
  {
   "cell_type": "code",
   "execution_count": 56,
   "id": "fda7f96e",
   "metadata": {},
   "outputs": [
    {
     "name": "stdout",
     "output_type": "stream",
     "text": [
      "[[[[0.745548   0.1926955  0.6854043 ]\n",
      "   [0.40802717 0.07953811 0.10340726]\n",
      "   [0.09365737 0.6735332  0.84683394]\n",
      "   ...\n",
      "   [0.22549653 0.3439381  0.7640344 ]\n",
      "   [0.00637114 0.3717525  0.06117809]\n",
      "   [0.31915843 0.73154163 0.9674219 ]]\n",
      "\n",
      "  [[0.17775393 0.4599533  0.58416855]\n",
      "   [0.18931472 0.18291152 0.61862123]\n",
      "   [0.4537629  0.24352646 0.30007243]\n",
      "   ...\n",
      "   [0.6370473  0.40723634 0.24254298]\n",
      "   [0.31661654 0.7923026  0.6010246 ]\n",
      "   [0.77779305 0.47727394 0.3668965 ]]\n",
      "\n",
      "  [[0.25677347 0.2700876  0.95980597]\n",
      "   [0.16662979 0.1034658  0.30582452]\n",
      "   [0.2357173  0.8563945  0.21818769]\n",
      "   ...\n",
      "   [0.06393516 0.34588492 0.89749753]\n",
      "   [0.47949827 0.8710735  0.64126825]\n",
      "   [0.4007858  0.19291532 0.6932992 ]]\n",
      "\n",
      "  ...\n",
      "\n",
      "  [[0.42601407 0.13480687 0.28502   ]\n",
      "   [0.30992568 0.09366143 0.81607103]\n",
      "   [0.14976549 0.32131636 0.64516675]\n",
      "   ...\n",
      "   [0.18937218 0.41222537 0.44618666]\n",
      "   [0.16352975 0.2075789  0.94438815]\n",
      "   [0.6332884  0.61966896 0.5709053 ]]\n",
      "\n",
      "  [[0.02663684 0.5738925  0.52660763]\n",
      "   [0.75466764 0.1662494  0.23271298]\n",
      "   [0.79160774 0.16810215 0.15834999]\n",
      "   ...\n",
      "   [0.8778938  0.80122995 0.05732739]\n",
      "   [0.721938   0.8287984  0.8506582 ]\n",
      "   [0.05543101 0.75033474 0.7614976 ]]\n",
      "\n",
      "  [[0.6367949  0.41075504 0.58403313]\n",
      "   [0.06366837 0.30338526 0.18989599]\n",
      "   [0.07584131 0.80219185 0.9815868 ]\n",
      "   ...\n",
      "   [0.61508095 0.5139321  0.60208046]\n",
      "   [0.32284343 0.75989056 0.944695  ]\n",
      "   [0.3687868  0.25567174 0.74480426]]]]\n",
      "\n",
      "Squeeze\n",
      "[[[[0.609712   0.08222198 0.25711286]\n",
      "   [0.10784841 0.43549895 0.33663118]\n",
      "   [0.6370934  0.87532496 0.6825645 ]\n",
      "   ...\n",
      "   [0.07930052 0.39158404 0.9242784 ]\n",
      "   [0.50063705 0.75439537 0.5615691 ]\n",
      "   [0.90216184 0.07042885 0.73375154]]\n",
      "\n",
      "  [[0.38175595 0.31156385 0.37116003]\n",
      "   [0.6894705  0.60688627 0.80523014]\n",
      "   [0.75269437 0.18634295 0.2732743 ]\n",
      "   ...\n",
      "   [0.0137862  0.5396073  0.25137484]\n",
      "   [0.3675108  0.3388294  0.65021276]\n",
      "   [0.47317052 0.6420586  0.6091019 ]]\n",
      "\n",
      "  [[0.86811817 0.6549479  0.5710827 ]\n",
      "   [0.4828962  0.36140454 0.26099944]\n",
      "   [0.5993445  0.12591398 0.08565903]\n",
      "   ...\n",
      "   [0.6657603  0.79222655 0.02658236]\n",
      "   [0.13565886 0.17042577 0.21737325]\n",
      "   [0.32461715 0.56723905 0.44262624]]\n",
      "\n",
      "  ...\n",
      "\n",
      "  [[0.32655275 0.8828161  0.56954825]\n",
      "   [0.29522038 0.66031384 0.04497099]\n",
      "   [0.7358862  0.27627993 0.7872095 ]\n",
      "   ...\n",
      "   [0.1014812  0.7178848  0.5533279 ]\n",
      "   [0.05866897 0.7460145  0.90938306]\n",
      "   [0.1268884  0.31667113 0.22644341]]\n",
      "\n",
      "  [[0.12832856 0.18531644 0.794268  ]\n",
      "   [0.59021056 0.12057233 0.76068306]\n",
      "   [0.10661852 0.6802095  0.17892563]\n",
      "   ...\n",
      "   [0.9538965  0.75832796 0.9059609 ]\n",
      "   [0.15097189 0.30226386 0.81870437]\n",
      "   [0.68328774 0.4662168  0.7119132 ]]\n",
      "\n",
      "  [[0.658162   0.52269495 0.85049117]\n",
      "   [0.96522033 0.3060509  0.3537693 ]\n",
      "   [0.9290799  0.75928426 0.8591111 ]\n",
      "   ...\n",
      "   [0.2920301  0.20425594 0.01051152]\n",
      "   [0.51557505 0.82190263 0.9950572 ]\n",
      "   [0.7169682  0.14954281 0.08466971]]]]\n"
     ]
    }
   ],
   "source": [
    "# 8. Create a tensor with random values of shape [1, 224, 224, 3] then squeeze it to change the shape to [224, 224, 3].\n",
    "tensor4 = tf.random.uniform(shape = [1,224,224,3])\n",
    "print(sess.run(tensor4))\n",
    "print(\"\\nSqueeze\")\n",
    "squeeze = tf.squeeze(tensor4)\n",
    "print(sess.run(tensor4))"
   ]
  },
  {
   "cell_type": "code",
   "execution_count": 57,
   "id": "941acdd2",
   "metadata": {},
   "outputs": [
    {
     "name": "stdout",
     "output_type": "stream",
     "text": [
      "4\n"
     ]
    }
   ],
   "source": [
    "# 9. Create a tensor with shape [10] using your own choice of values, then find the index which has the maximum value.\n",
    "tensor5 = tf.constant([2,3,4,23,43,11,23,8,19,10])\n",
    "max_index = tf.argmax(tensor5)\n",
    "print(sess.run(max_index))"
   ]
  },
  {
   "cell_type": "code",
   "execution_count": 58,
   "id": "e2fdb88d",
   "metadata": {},
   "outputs": [
    {
     "name": "stdout",
     "output_type": "stream",
     "text": [
      "Index of Maximum Value: 4\n",
      "One-hot Encoded Tensor:\n",
      "[0. 0. 0. 0. 1. 0. 0. 0. 0. 0.]\n"
     ]
    }
   ],
   "source": [
    "#10. One-hot encode the tensor you created in 9.\n",
    "one_hot_encoded = tf.one_hot(indices=max_index, depth=tf.size(tensor5))\n",
    "with tf.compat.v1.Session() as sess:\n",
    "    max_index_value = sess.run(max_index)\n",
    "    print(\"Index of Maximum Value:\", max_index_value)\n",
    "    one_hot_encoded_value = sess.run(one_hot_encoded)\n",
    "    # Print the one-hot encoded tensor\n",
    "    print(\"One-hot Encoded Tensor:\")\n",
    "    print(one_hot_encoded_value)"
   ]
  },
  {
   "cell_type": "code",
   "execution_count": null,
   "id": "df6094db",
   "metadata": {},
   "outputs": [],
   "source": []
  }
 ],
 "metadata": {
  "kernelspec": {
   "display_name": "Python 3 (ipykernel)",
   "language": "python",
   "name": "python3"
  },
  "language_info": {
   "codemirror_mode": {
    "name": "ipython",
    "version": 3
   },
   "file_extension": ".py",
   "mimetype": "text/x-python",
   "name": "python",
   "nbconvert_exporter": "python",
   "pygments_lexer": "ipython3",
   "version": "3.11.5"
  }
 },
 "nbformat": 4,
 "nbformat_minor": 5
}
